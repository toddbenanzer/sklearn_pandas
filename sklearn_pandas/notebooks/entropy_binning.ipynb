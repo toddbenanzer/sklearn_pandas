{
 "metadata": {
  "language_info": {
   "codemirror_mode": {
    "name": "ipython",
    "version": 3
   },
   "file_extension": ".py",
   "mimetype": "text/x-python",
   "name": "python",
   "nbconvert_exporter": "python",
   "pygments_lexer": "ipython3",
   "version": "3.7.3-final"
  },
  "orig_nbformat": 2,
  "kernelspec": {
   "name": "python3",
   "display_name": "Python 3",
   "language": "python"
  }
 },
 "nbformat": 4,
 "nbformat_minor": 2,
 "cells": [
  {
   "cell_type": "code",
   "execution_count": 87,
   "metadata": {},
   "outputs": [],
   "source": [
    "import pandas as pd\n",
    "import numpy as np\n",
    "import sys\n",
    "sys.path.insert(1, '../..')\n",
    "import sklearn_pandas\n",
    "from sklearn_pandas.transformers.numeric_transform import EntropyBinning\n",
    "\n",
    "from importlib import reload\n",
    "sklearn_pandas.transformers.numeric_transform = reload(sklearn_pandas.transformers.numeric_transform)\n",
    "\n",
    "from sklearn_pandas.transformers.numeric_transform import EntropyBinning\n",
    "\n",
    "from sklearn.datasets import load_iris\n",
    "\n",
    "iris = load_iris()\n",
    "df = pd.DataFrame(data=np.c_[iris['data'], iris['target']], columns= iris['feature_names'] + ['target'])\n",
    "df.columns = df.columns.str.replace(' ', '_').str.replace('(', '').str.replace(')', '')\n",
    "X = df[['sepal_length_cm', 'sepal_width_cm', 'petal_length_cm', 'petal_width_cm']]\n",
    "y = df['target']\n",
    "yb = (y >= y.quantile(0.9)).astype(float)"
   ]
  },
  {
   "cell_type": "code",
   "execution_count": 88,
   "metadata": {},
   "outputs": [
    {
     "output_type": "execute_result",
     "data": {
      "text/plain": [
       "   sepal_length_cm  sepal_width_cm  petal_length_cm  petal_width_cm\n",
       "0              5.1             3.5              1.4             0.2\n",
       "1              4.9             3.0              1.4             0.2\n",
       "2              4.7             3.2              1.3             0.2\n",
       "3              4.6             3.1              1.5             0.2\n",
       "4              5.0             3.6              1.4             0.2"
      ],
      "text/html": "<div>\n<style scoped>\n    .dataframe tbody tr th:only-of-type {\n        vertical-align: middle;\n    }\n\n    .dataframe tbody tr th {\n        vertical-align: top;\n    }\n\n    .dataframe thead th {\n        text-align: right;\n    }\n</style>\n<table border=\"1\" class=\"dataframe\">\n  <thead>\n    <tr style=\"text-align: right;\">\n      <th></th>\n      <th>sepal_length_cm</th>\n      <th>sepal_width_cm</th>\n      <th>petal_length_cm</th>\n      <th>petal_width_cm</th>\n    </tr>\n  </thead>\n  <tbody>\n    <tr>\n      <th>0</th>\n      <td>5.1</td>\n      <td>3.5</td>\n      <td>1.4</td>\n      <td>0.2</td>\n    </tr>\n    <tr>\n      <th>1</th>\n      <td>4.9</td>\n      <td>3.0</td>\n      <td>1.4</td>\n      <td>0.2</td>\n    </tr>\n    <tr>\n      <th>2</th>\n      <td>4.7</td>\n      <td>3.2</td>\n      <td>1.3</td>\n      <td>0.2</td>\n    </tr>\n    <tr>\n      <th>3</th>\n      <td>4.6</td>\n      <td>3.1</td>\n      <td>1.5</td>\n      <td>0.2</td>\n    </tr>\n    <tr>\n      <th>4</th>\n      <td>5.0</td>\n      <td>3.6</td>\n      <td>1.4</td>\n      <td>0.2</td>\n    </tr>\n  </tbody>\n</table>\n</div>"
     },
     "metadata": {},
     "execution_count": 88
    }
   ],
   "source": [
    "X.head()"
   ]
  },
  {
   "cell_type": "code",
   "execution_count": 89,
   "metadata": {},
   "outputs": [
    {
     "output_type": "execute_result",
     "data": {
      "text/plain": [
       "  sepal_length_cm__binned sepal_width_cm__binned petal_length_cm__binned  \\\n",
       "0                 4.8-5.1                3.3-3.6                -inf-1.4   \n",
       "1                 4.8-5.1                2.8-3.0                -inf-1.4   \n",
       "2                -inf-4.8                3.0-3.3                -inf-1.4   \n",
       "\n",
       "  petal_width_cm__binned  \n",
       "0               -inf-0.4  \n",
       "1               -inf-0.4  \n",
       "2               -inf-0.4  "
      ],
      "text/html": "<div>\n<style scoped>\n    .dataframe tbody tr th:only-of-type {\n        vertical-align: middle;\n    }\n\n    .dataframe tbody tr th {\n        vertical-align: top;\n    }\n\n    .dataframe thead th {\n        text-align: right;\n    }\n</style>\n<table border=\"1\" class=\"dataframe\">\n  <thead>\n    <tr style=\"text-align: right;\">\n      <th></th>\n      <th>sepal_length_cm__binned</th>\n      <th>sepal_width_cm__binned</th>\n      <th>petal_length_cm__binned</th>\n      <th>petal_width_cm__binned</th>\n    </tr>\n  </thead>\n  <tbody>\n    <tr>\n      <th>0</th>\n      <td>4.8-5.1</td>\n      <td>3.3-3.6</td>\n      <td>-inf-1.4</td>\n      <td>-inf-0.4</td>\n    </tr>\n    <tr>\n      <th>1</th>\n      <td>4.8-5.1</td>\n      <td>2.8-3.0</td>\n      <td>-inf-1.4</td>\n      <td>-inf-0.4</td>\n    </tr>\n    <tr>\n      <th>2</th>\n      <td>-inf-4.8</td>\n      <td>3.0-3.3</td>\n      <td>-inf-1.4</td>\n      <td>-inf-0.4</td>\n    </tr>\n  </tbody>\n</table>\n</div>"
     },
     "metadata": {},
     "execution_count": 89
    }
   ],
   "source": [
    "eb = EntropyBinning(method='variance')\n",
    "eb.fit(X, y)\n",
    "Xt = eb.transform(X)\n",
    "Xt.head(3)"
   ]
  },
  {
   "cell_type": "code",
   "execution_count": 90,
   "metadata": {},
   "outputs": [
    {
     "output_type": "execute_result",
     "data": {
      "text/plain": [
       "  sepal_length_cm__binned sepal_width_cm__binned petal_length_cm__binned  \\\n",
       "0                 4.9-5.4                3.3-3.5                -inf-4.4   \n",
       "1                 4.9-5.4                2.8-3.1                -inf-4.4   \n",
       "2                -inf-4.9                3.1-3.3                -inf-4.4   \n",
       "\n",
       "  petal_width_cm__binned  \n",
       "0               -inf-1.3  \n",
       "1               -inf-1.3  \n",
       "2               -inf-1.3  "
      ],
      "text/html": "<div>\n<style scoped>\n    .dataframe tbody tr th:only-of-type {\n        vertical-align: middle;\n    }\n\n    .dataframe tbody tr th {\n        vertical-align: top;\n    }\n\n    .dataframe thead th {\n        text-align: right;\n    }\n</style>\n<table border=\"1\" class=\"dataframe\">\n  <thead>\n    <tr style=\"text-align: right;\">\n      <th></th>\n      <th>sepal_length_cm__binned</th>\n      <th>sepal_width_cm__binned</th>\n      <th>petal_length_cm__binned</th>\n      <th>petal_width_cm__binned</th>\n    </tr>\n  </thead>\n  <tbody>\n    <tr>\n      <th>0</th>\n      <td>4.9-5.4</td>\n      <td>3.3-3.5</td>\n      <td>-inf-4.4</td>\n      <td>-inf-1.3</td>\n    </tr>\n    <tr>\n      <th>1</th>\n      <td>4.9-5.4</td>\n      <td>2.8-3.1</td>\n      <td>-inf-4.4</td>\n      <td>-inf-1.3</td>\n    </tr>\n    <tr>\n      <th>2</th>\n      <td>-inf-4.9</td>\n      <td>3.1-3.3</td>\n      <td>-inf-4.4</td>\n      <td>-inf-1.3</td>\n    </tr>\n  </tbody>\n</table>\n</div>"
     },
     "metadata": {},
     "execution_count": 90
    }
   ],
   "source": [
    "eb = EntropyBinning(method='entropy')\n",
    "eb.fit(X, yb)\n",
    "Xt = eb.transform(X)\n",
    "Xt.head(3)"
   ]
  },
  {
   "cell_type": "code",
   "execution_count": null,
   "metadata": {},
   "outputs": [],
   "source": []
  }
 ]
}