{
 "metadata": {
  "language_info": {
   "codemirror_mode": {
    "name": "ipython",
    "version": 3
   },
   "file_extension": ".py",
   "mimetype": "text/x-python",
   "name": "python",
   "nbconvert_exporter": "python",
   "pygments_lexer": "ipython3",
   "version": "3.7.3"
  },
  "orig_nbformat": 2,
  "kernelspec": {
   "name": "python373jvsc74a57bd031ee95f28bd84f3252c782410ab53671b3e18438921d79936f3681141dbddae6",
   "display_name": "Python 3.7.3 64-bit ('base': conda)"
  }
 },
 "nbformat": 4,
 "nbformat_minor": 2,
 "cells": [
  {
   "cell_type": "code",
   "execution_count": 15,
   "metadata": {},
   "outputs": [],
   "source": [
    "import pandas as pd\n",
    "import numpy as np\n",
    "import sys\n",
    "sys.path.insert(1, '../..')\n",
    "import sklearn_pandas\n",
    "from sklearn_pandas.transformers.monitor import ValidateTypes, ValidateRange\n",
    "\n",
    "from importlib import reload\n",
    "sklearn_pandas.transformers.monitor = reload(sklearn_pandas.transformers.monitor)\n",
    "from sklearn_pandas.transformers.monitor import ValidateTypes, ValidateRange\n",
    "\n",
    "\n",
    "df = pd.DataFrame({\n",
    "    'a': [1, 1, 1, 1, 1, 1, 1, 1, 1, 1, 2, 2, 2, 2, 2, 2, 2, 2, 2, 2],\n",
    "    'b': [1.0, 1.0, 1.0, 1.0, 1.0, 2.0, 2.0, 2.0, 2.0, 2.0, 2.0, 2.0, 2.0, 2.0, 2.0, 3.0, 3.0, 3.0, 3.0, 3.0],\n",
    "    'c': ['1', '1', '1', '1', '1', '1', '1', '1', '1', '1', '2', '2', '2', '2', '2', '2', '2', '2', '2', '2'],\n",
    "    'x': [1, 2, 3, 4, 5, 6, 6, 6, 6, 6, 1, 1, 2, 2, 3, 3, 4, 4, 5, 5],\n",
    "    'y': [1, 2, 3, 4, 5, 6, 6, 6, 6, 6, 1, 1, 2, 2, 3, 3, 4, 4, 5, 5],\n",
    "    'w': [1, 100000, 2, 2, 2, 2, 1, 1, 1, 1, 1, 1, 1, 2, 2, 2, 2, 2, 1, 1000],\n",
    "})\n",
    "X = df.loc[:, ['a', 'x']]\n",
    "y = df['y']\n",
    "w = df['w']"
   ]
  },
  {
   "source": [
    "# Type Validation"
   ],
   "cell_type": "markdown",
   "metadata": {}
  },
  {
   "cell_type": "code",
   "execution_count": 16,
   "metadata": {},
   "outputs": [
    {
     "output_type": "execute_result",
     "data": {
      "text/plain": [
       "ValidateTypes(logfile=None, to_screen=True)"
      ]
     },
     "metadata": {},
     "execution_count": 16
    }
   ],
   "source": [
    "df1 = df.copy()\n",
    "df2 = df1.copy()\n",
    "df2['a'] = df2['a'].astype(float)\n",
    "\n",
    "validator = ValidateTypes()\n",
    "validator.fit(df1)"
   ]
  },
  {
   "cell_type": "code",
   "execution_count": 17,
   "metadata": {},
   "outputs": [],
   "source": [
    "df_out = validator.transform(df1)"
   ]
  },
  {
   "cell_type": "code",
   "execution_count": 18,
   "metadata": {},
   "outputs": [
    {
     "output_type": "stream",
     "name": "stdout",
     "text": [
      "Data Type Mismatch for column a: Expected int64 Received float64\n"
     ]
    }
   ],
   "source": [
    "df_out = validator.transform(df2)"
   ]
  },
  {
   "source": [
    "# Range / Unique Value Validation"
   ],
   "cell_type": "markdown",
   "metadata": {}
  },
  {
   "cell_type": "code",
   "execution_count": 19,
   "metadata": {},
   "outputs": [],
   "source": [
    "df1 = df.copy()\n",
    "df2 = df1.copy()\n",
    "df2['a'] = df2['a'].astype(float) * 2.0\n",
    "\n",
    "validator = ValidateRange()\n",
    "validator.fit(df1)\n",
    "df_out = validator.transform(df1)"
   ]
  },
  {
   "cell_type": "code",
   "execution_count": 20,
   "metadata": {},
   "outputs": [],
   "source": [
    "df_out = validator.transform(df1)"
   ]
  },
  {
   "cell_type": "code",
   "execution_count": 21,
   "metadata": {},
   "outputs": [
    {
     "output_type": "stream",
     "name": "stdout",
     "text": [
      "High Value warning for column a: Largest Training value 2, Largest Scoring value 4.0\n"
     ]
    }
   ],
   "source": [
    "df_out = validator.transform(df2)"
   ]
  },
  {
   "cell_type": "code",
   "execution_count": null,
   "metadata": {},
   "outputs": [],
   "source": []
  }
 ]
}