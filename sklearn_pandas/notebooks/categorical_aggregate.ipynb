{
 "metadata": {
  "language_info": {
   "codemirror_mode": {
    "name": "ipython",
    "version": 3
   },
   "file_extension": ".py",
   "mimetype": "text/x-python",
   "name": "python",
   "nbconvert_exporter": "python",
   "pygments_lexer": "ipython3",
   "version": "3.7.3-final"
  },
  "orig_nbformat": 2,
  "kernelspec": {
   "name": "python373jvsc74a57bd031ee95f28bd84f3252c782410ab53671b3e18438921d79936f3681141dbddae6",
   "display_name": "Python 3.7.3 64-bit (conda)"
  }
 },
 "nbformat": 4,
 "nbformat_minor": 2,
 "cells": [
  {
   "cell_type": "code",
   "execution_count": 16,
   "metadata": {
    "tags": [
     "outputPrepend"
    ]
   },
   "outputs": [
    {
     "output_type": "stream",
     "name": "stderr",
     "text": [
      "sh to review your current use, check the release note link for additional information.\nDeprecated in NumPy 1.20; for more details and guidance: https://numpy.org/devdocs/release/1.20.0-notes.html#deprecations\n  target[i] = np.asarray(ir[-1], dtype=np.int)\nC:\\ProgramData\\Anaconda201903\\lib\\site-packages\\sklearn\\datasets\\base.py:246: DeprecationWarning: `np.int` is a deprecated alias for the builtin `int`. To silence this warning, use `int` by itself. Doing this will not modify any behavior and is safe. When replacing `np.int`, you may wish to use e.g. `np.int64` or `np.int32` to specify the precision. If you wish to review your current use, check the release note link for additional information.\nDeprecated in NumPy 1.20; for more details and guidance: https://numpy.org/devdocs/release/1.20.0-notes.html#deprecations\n  target[i] = np.asarray(ir[-1], dtype=np.int)\nC:\\ProgramData\\Anaconda201903\\lib\\site-packages\\sklearn\\datasets\\base.py:246: DeprecationWarning: `np.int` is a deprecated alias for the builtin `int`. To silence this warning, use `int` by itself. Doing this will not modify any behavior and is safe. When replacing `np.int`, you may wish to use e.g. `np.int64` or `np.int32` to specify the precision. If you wish to review your current use, check the release note link for additional information.\nDeprecated in NumPy 1.20; for more details and guidance: https://numpy.org/devdocs/release/1.20.0-notes.html#deprecations\n  target[i] = np.asarray(ir[-1], dtype=np.int)\nC:\\ProgramData\\Anaconda201903\\lib\\site-packages\\sklearn\\datasets\\base.py:246: DeprecationWarning: `np.int` is a deprecated alias for the builtin `int`. To silence this warning, use `int` by itself. Doing this will not modify any behavior and is safe. When replacing `np.int`, you may wish to use e.g. `np.int64` or `np.int32` to specify the precision. If you wish to review your current use, check the release note link for additional information.\nDeprecated in NumPy 1.20; for more details and guidance: https://numpy.org/devdocs/release/1.20.0-notes.html#deprecations\n  target[i] = np.asarray(ir[-1], dtype=np.int)\nC:\\ProgramData\\Anaconda201903\\lib\\site-packages\\sklearn\\datasets\\base.py:246: DeprecationWarning: `np.int` is a deprecated alias for the builtin `int`. To silence this warning, use `int` by itself. Doing this will not modify any behavior and is safe. When replacing `np.int`, you may wish to use e.g. `np.int64` or `np.int32` to specify the precision. If you wish to review your current use, check the release note link for additional information.\nDeprecated in NumPy 1.20; for more details and guidance: https://numpy.org/devdocs/release/1.20.0-notes.html#deprecations\n  target[i] = np.asarray(ir[-1], dtype=np.int)\nC:\\ProgramData\\Anaconda201903\\lib\\site-packages\\sklearn\\datasets\\base.py:246: DeprecationWarning: `np.int` is a deprecated alias for the builtin `int`. To silence this warning, use `int` by itself. Doing this will not modify any behavior and is safe. When replacing `np.int`, you may wish to use e.g. `np.int64` or `np.int32` to specify the precision. If you wish to review your current use, check the release note link for additional information.\nDeprecated in NumPy 1.20; for more details and guidance: https://numpy.org/devdocs/release/1.20.0-notes.html#deprecations\n  target[i] = np.asarray(ir[-1], dtype=np.int)\nC:\\ProgramData\\Anaconda201903\\lib\\site-packages\\sklearn\\datasets\\base.py:246: DeprecationWarning: `np.int` is a deprecated alias for the builtin `int`. To silence this warning, use `int` by itself. Doing this will not modify any behavior and is safe. When replacing `np.int`, you may wish to use e.g. `np.int64` or `np.int32` to specify the precision. If you wish to review your current use, check the release note link for additional information.\nDeprecated in NumPy 1.20; for more details and guidance: https://numpy.org/devdocs/release/1.20.0-notes.html#deprecations\n  target[i] = np.asarray(ir[-1], dtype=np.int)\nC:\\ProgramData\\Anaconda201903\\lib\\site-packages\\sklearn\\datasets\\base.py:246: DeprecationWarning: `np.int` is a deprecated alias for the builtin `int`. To silence this warning, use `int` by itself. Doing this will not modify any behavior and is safe. When replacing `np.int`, you may wish to use e.g. `np.int64` or `np.int32` to specify the precision. If you wish to review your current use, check the release note link for additional information.\nDeprecated in NumPy 1.20; for more details and guidance: https://numpy.org/devdocs/release/1.20.0-notes.html#deprecations\n  target[i] = np.asarray(ir[-1], dtype=np.int)\nC:\\ProgramData\\Anaconda201903\\lib\\site-packages\\sklearn\\datasets\\base.py:246: DeprecationWarning: `np.int` is a deprecated alias for the builtin `int`. To silence this warning, use `int` by itself. Doing this will not modify any behavior and is safe. When replacing `np.int`, you may wish to use e.g. `np.int64` or `np.int32` to specify the precision. If you wish to review your current use, check the release note link for additional information.\nDeprecated in NumPy 1.20; for more details and guidance: https://numpy.org/devdocs/release/1.20.0-notes.html#deprecations\n  target[i] = np.asarray(ir[-1], dtype=np.int)\nC:\\ProgramData\\Anaconda201903\\lib\\site-packages\\sklearn\\datasets\\base.py:246: DeprecationWarning: `np.int` is a deprecated alias for the builtin `int`. To silence this warning, use `int` by itself. Doing this will not modify any behavior and is safe. When replacing `np.int`, you may wish to use e.g. `np.int64` or `np.int32` to specify the precision. If you wish to review your current use, check the release note link for additional information.\nDeprecated in NumPy 1.20; for more details and guidance: https://numpy.org/devdocs/release/1.20.0-notes.html#deprecations\n  target[i] = np.asarray(ir[-1], dtype=np.int)\nC:\\ProgramData\\Anaconda201903\\lib\\site-packages\\sklearn\\datasets\\base.py:246: DeprecationWarning: `np.int` is a deprecated alias for the builtin `int`. To silence this warning, use `int` by itself. Doing this will not modify any behavior and is safe. When replacing `np.int`, you may wish to use e.g. `np.int64` or `np.int32` to specify the precision. If you wish to review your current use, check the release note link for additional information.\nDeprecated in NumPy 1.20; for more details and guidance: https://numpy.org/devdocs/release/1.20.0-notes.html#deprecations\n  target[i] = np.asarray(ir[-1], dtype=np.int)\nC:\\ProgramData\\Anaconda201903\\lib\\site-packages\\sklearn\\datasets\\base.py:246: DeprecationWarning: `np.int` is a deprecated alias for the builtin `int`. To silence this warning, use `int` by itself. Doing this will not modify any behavior and is safe. When replacing `np.int`, you may wish to use e.g. `np.int64` or `np.int32` to specify the precision. If you wish to review your current use, check the release note link for additional information.\nDeprecated in NumPy 1.20; for more details and guidance: https://numpy.org/devdocs/release/1.20.0-notes.html#deprecations\n  target[i] = np.asarray(ir[-1], dtype=np.int)\nC:\\ProgramData\\Anaconda201903\\lib\\site-packages\\sklearn\\datasets\\base.py:246: DeprecationWarning: `np.int` is a deprecated alias for the builtin `int`. To silence this warning, use `int` by itself. Doing this will not modify any behavior and is safe. When replacing `np.int`, you may wish to use e.g. `np.int64` or `np.int32` to specify the precision. If you wish to review your current use, check the release note link for additional information.\nDeprecated in NumPy 1.20; for more details and guidance: https://numpy.org/devdocs/release/1.20.0-notes.html#deprecations\n  target[i] = np.asarray(ir[-1], dtype=np.int)\nC:\\ProgramData\\Anaconda201903\\lib\\site-packages\\sklearn\\datasets\\base.py:246: DeprecationWarning: `np.int` is a deprecated alias for the builtin `int`. To silence this warning, use `int` by itself. Doing this will not modify any behavior and is safe. When replacing `np.int`, you may wish to use e.g. `np.int64` or `np.int32` to specify the precision. If you wish to review your current use, check the release note link for additional information.\nDeprecated in NumPy 1.20; for more details and guidance: https://numpy.org/devdocs/release/1.20.0-notes.html#deprecations\n  target[i] = np.asarray(ir[-1], dtype=np.int)\nC:\\ProgramData\\Anaconda201903\\lib\\site-packages\\sklearn\\datasets\\base.py:246: DeprecationWarning: `np.int` is a deprecated alias for the builtin `int`. To silence this warning, use `int` by itself. Doing this will not modify any behavior and is safe. When replacing `np.int`, you may wish to use e.g. `np.int64` or `np.int32` to specify the precision. If you wish to review your current use, check the release note link for additional information.\nDeprecated in NumPy 1.20; for more details and guidance: https://numpy.org/devdocs/release/1.20.0-notes.html#deprecations\n  target[i] = np.asarray(ir[-1], dtype=np.int)\nC:\\ProgramData\\Anaconda201903\\lib\\site-packages\\sklearn\\datasets\\base.py:246: DeprecationWarning: `np.int` is a deprecated alias for the builtin `int`. To silence this warning, use `int` by itself. Doing this will not modify any behavior and is safe. When replacing `np.int`, you may wish to use e.g. `np.int64` or `np.int32` to specify the precision. If you wish to review your current use, check the release note link for additional information.\nDeprecated in NumPy 1.20; for more details and guidance: https://numpy.org/devdocs/release/1.20.0-notes.html#deprecations\n  target[i] = np.asarray(ir[-1], dtype=np.int)\nC:\\ProgramData\\Anaconda201903\\lib\\site-packages\\sklearn\\datasets\\base.py:246: DeprecationWarning: `np.int` is a deprecated alias for the builtin `int`. To silence this warning, use `int` by itself. Doing this will not modify any behavior and is safe. When replacing `np.int`, you may wish to use e.g. `np.int64` or `np.int32` to specify the precision. If you wish to review your current use, check the release note link for additional information.\nDeprecated in NumPy 1.20; for more details and guidance: https://numpy.org/devdocs/release/1.20.0-notes.html#deprecations\n  target[i] = np.asarray(ir[-1], dtype=np.int)\nC:\\ProgramData\\Anaconda201903\\lib\\site-packages\\sklearn\\datasets\\base.py:246: DeprecationWarning: `np.int` is a deprecated alias for the builtin `int`. To silence this warning, use `int` by itself. Doing this will not modify any behavior and is safe. When replacing `np.int`, you may wish to use e.g. `np.int64` or `np.int32` to specify the precision. If you wish to review your current use, check the release note link for additional information.\nDeprecated in NumPy 1.20; for more details and guidance: https://numpy.org/devdocs/release/1.20.0-notes.html#deprecations\n  target[i] = np.asarray(ir[-1], dtype=np.int)\nC:\\ProgramData\\Anaconda201903\\lib\\site-packages\\sklearn\\datasets\\base.py:246: DeprecationWarning: `np.int` is a deprecated alias for the builtin `int`. To silence this warning, use `int` by itself. Doing this will not modify any behavior and is safe. When replacing `np.int`, you may wish to use e.g. `np.int64` or `np.int32` to specify the precision. If you wish to review your current use, check the release note link for additional information.\nDeprecated in NumPy 1.20; for more details and guidance: https://numpy.org/devdocs/release/1.20.0-notes.html#deprecations\n  target[i] = np.asarray(ir[-1], dtype=np.int)\nC:\\ProgramData\\Anaconda201903\\lib\\site-packages\\sklearn\\datasets\\base.py:246: DeprecationWarning: `np.int` is a deprecated alias for the builtin `int`. To silence this warning, use `int` by itself. Doing this will not modify any behavior and is safe. When replacing `np.int`, you may wish to use e.g. `np.int64` or `np.int32` to specify the precision. If you wish to review your current use, check the release note link for additional information.\nDeprecated in NumPy 1.20; for more details and guidance: https://numpy.org/devdocs/release/1.20.0-notes.html#deprecations\n  target[i] = np.asarray(ir[-1], dtype=np.int)\nC:\\ProgramData\\Anaconda201903\\lib\\site-packages\\sklearn\\datasets\\base.py:246: DeprecationWarning: `np.int` is a deprecated alias for the builtin `int`. To silence this warning, use `int` by itself. Doing this will not modify any behavior and is safe. When replacing `np.int`, you may wish to use e.g. `np.int64` or `np.int32` to specify the precision. If you wish to review your current use, check the release note link for additional information.\nDeprecated in NumPy 1.20; for more details and guidance: https://numpy.org/devdocs/release/1.20.0-notes.html#deprecations\n  target[i] = np.asarray(ir[-1], dtype=np.int)\nC:\\ProgramData\\Anaconda201903\\lib\\site-packages\\sklearn\\datasets\\base.py:246: DeprecationWarning: `np.int` is a deprecated alias for the builtin `int`. To silence this warning, use `int` by itself. Doing this will not modify any behavior and is safe. When replacing `np.int`, you may wish to use e.g. `np.int64` or `np.int32` to specify the precision. If you wish to review your current use, check the release note link for additional information.\nDeprecated in NumPy 1.20; for more details and guidance: https://numpy.org/devdocs/release/1.20.0-notes.html#deprecations\n  target[i] = np.asarray(ir[-1], dtype=np.int)\nC:\\ProgramData\\Anaconda201903\\lib\\site-packages\\sklearn\\datasets\\base.py:246: DeprecationWarning: `np.int` is a deprecated alias for the builtin `int`. To silence this warning, use `int` by itself. Doing this will not modify any behavior and is safe. When replacing `np.int`, you may wish to use e.g. `np.int64` or `np.int32` to specify the precision. If you wish to review your current use, check the release note link for additional information.\nDeprecated in NumPy 1.20; for more details and guidance: https://numpy.org/devdocs/release/1.20.0-notes.html#deprecations\n  target[i] = np.asarray(ir[-1], dtype=np.int)\nC:\\ProgramData\\Anaconda201903\\lib\\site-packages\\sklearn\\datasets\\base.py:246: DeprecationWarning: `np.int` is a deprecated alias for the builtin `int`. To silence this warning, use `int` by itself. Doing this will not modify any behavior and is safe. When replacing `np.int`, you may wish to use e.g. `np.int64` or `np.int32` to specify the precision. If you wish to review your current use, check the release note link for additional information.\nDeprecated in NumPy 1.20; for more details and guidance: https://numpy.org/devdocs/release/1.20.0-notes.html#deprecations\n  target[i] = np.asarray(ir[-1], dtype=np.int)\nC:\\ProgramData\\Anaconda201903\\lib\\site-packages\\sklearn\\datasets\\base.py:246: DeprecationWarning: `np.int` is a deprecated alias for the builtin `int`. To silence this warning, use `int` by itself. Doing this will not modify any behavior and is safe. When replacing `np.int`, you may wish to use e.g. `np.int64` or `np.int32` to specify the precision. If you wish to review your current use, check the release note link for additional information.\nDeprecated in NumPy 1.20; for more details and guidance: https://numpy.org/devdocs/release/1.20.0-notes.html#deprecations\n  target[i] = np.asarray(ir[-1], dtype=np.int)\nC:\\ProgramData\\Anaconda201903\\lib\\site-packages\\sklearn\\datasets\\base.py:246: DeprecationWarning: `np.int` is a deprecated alias for the builtin `int`. To silence this warning, use `int` by itself. Doing this will not modify any behavior and is safe. When replacing `np.int`, you may wish to use e.g. `np.int64` or `np.int32` to specify the precision. If you wish to review your current use, check the release note link for additional information.\nDeprecated in NumPy 1.20; for more details and guidance: https://numpy.org/devdocs/release/1.20.0-notes.html#deprecations\n  target[i] = np.asarray(ir[-1], dtype=np.int)\nC:\\ProgramData\\Anaconda201903\\lib\\site-packages\\sklearn\\datasets\\base.py:246: DeprecationWarning: `np.int` is a deprecated alias for the builtin `int`. To silence this warning, use `int` by itself. Doing this will not modify any behavior and is safe. When replacing `np.int`, you may wish to use e.g. `np.int64` or `np.int32` to specify the precision. If you wish to review your current use, check the release note link for additional information.\nDeprecated in NumPy 1.20; for more details and guidance: https://numpy.org/devdocs/release/1.20.0-notes.html#deprecations\n  target[i] = np.asarray(ir[-1], dtype=np.int)\nC:\\ProgramData\\Anaconda201903\\lib\\site-packages\\sklearn\\datasets\\base.py:246: DeprecationWarning: `np.int` is a deprecated alias for the builtin `int`. To silence this warning, use `int` by itself. Doing this will not modify any behavior and is safe. When replacing `np.int`, you may wish to use e.g. `np.int64` or `np.int32` to specify the precision. If you wish to review your current use, check the release note link for additional information.\nDeprecated in NumPy 1.20; for more details and guidance: https://numpy.org/devdocs/release/1.20.0-notes.html#deprecations\n  target[i] = np.asarray(ir[-1], dtype=np.int)\nC:\\ProgramData\\Anaconda201903\\lib\\site-packages\\sklearn\\datasets\\base.py:246: DeprecationWarning: `np.int` is a deprecated alias for the builtin `int`. To silence this warning, use `int` by itself. Doing this will not modify any behavior and is safe. When replacing `np.int`, you may wish to use e.g. `np.int64` or `np.int32` to specify the precision. If you wish to review your current use, check the release note link for additional information.\nDeprecated in NumPy 1.20; for more details and guidance: https://numpy.org/devdocs/release/1.20.0-notes.html#deprecations\n  target[i] = np.asarray(ir[-1], dtype=np.int)\nC:\\ProgramData\\Anaconda201903\\lib\\site-packages\\sklearn\\datasets\\base.py:246: DeprecationWarning: `np.int` is a deprecated alias for the builtin `int`. To silence this warning, use `int` by itself. Doing this will not modify any behavior and is safe. When replacing `np.int`, you may wish to use e.g. `np.int64` or `np.int32` to specify the precision. If you wish to review your current use, check the release note link for additional information.\nDeprecated in NumPy 1.20; for more details and guidance: https://numpy.org/devdocs/release/1.20.0-notes.html#deprecations\n  target[i] = np.asarray(ir[-1], dtype=np.int)\nC:\\ProgramData\\Anaconda201903\\lib\\site-packages\\sklearn\\datasets\\base.py:246: DeprecationWarning: `np.int` is a deprecated alias for the builtin `int`. To silence this warning, use `int` by itself. Doing this will not modify any behavior and is safe. When replacing `np.int`, you may wish to use e.g. `np.int64` or `np.int32` to specify the precision. If you wish to review your current use, check the release note link for additional information.\nDeprecated in NumPy 1.20; for more details and guidance: https://numpy.org/devdocs/release/1.20.0-notes.html#deprecations\n  target[i] = np.asarray(ir[-1], dtype=np.int)\nC:\\ProgramData\\Anaconda201903\\lib\\site-packages\\sklearn\\datasets\\base.py:246: DeprecationWarning: `np.int` is a deprecated alias for the builtin `int`. To silence this warning, use `int` by itself. Doing this will not modify any behavior and is safe. When replacing `np.int`, you may wish to use e.g. `np.int64` or `np.int32` to specify the precision. If you wish to review your current use, check the release note link for additional information.\nDeprecated in NumPy 1.20; for more details and guidance: https://numpy.org/devdocs/release/1.20.0-notes.html#deprecations\n  target[i] = np.asarray(ir[-1], dtype=np.int)\nC:\\ProgramData\\Anaconda201903\\lib\\site-packages\\sklearn\\datasets\\base.py:246: DeprecationWarning: `np.int` is a deprecated alias for the builtin `int`. To silence this warning, use `int` by itself. Doing this will not modify any behavior and is safe. When replacing `np.int`, you may wish to use e.g. `np.int64` or `np.int32` to specify the precision. If you wish to review your current use, check the release note link for additional information.\nDeprecated in NumPy 1.20; for more details and guidance: https://numpy.org/devdocs/release/1.20.0-notes.html#deprecations\n  target[i] = np.asarray(ir[-1], dtype=np.int)\n"
     ]
    }
   ],
   "source": [
    "import pandas as pd\n",
    "import numpy as np\n",
    "import sys\n",
    "sys.path.insert(1, '../..')\n",
    "import sklearn_pandas\n",
    "from sklearn_pandas.transformers.category_transform import CategoricalAggregate\n",
    "\n",
    "from importlib import reload\n",
    "sklearn_pandas.transformers.category_transform = reload(sklearn_pandas.transformers.category_transform)\n",
    "from sklearn_pandas.transformers.category_transform import CategoricalAggregate\n",
    "\n",
    "from sklearn.datasets import load_iris\n",
    "\n",
    "iris = load_iris()\n",
    "df = pd.DataFrame({\n",
    "    'a': [1, 1, 1, 1, 1, 1, 1, 1, 1, 1, 2, 2, 2, 2, 2, 2, 2, 2, 2, 2],\n",
    "    'x': [1, 2, 3, 4, 5, 6, 6, 6, 6, 6, 1, 1, 2, 2, 3, 3, 4, 4, 5, 5],\n",
    "    'y': [1, 2, 3, 4, 5, 6, 6, 6, 6, 6, 1, 1, 2, 2, 3, 3, 4, 4, 5, 5],\n",
    "    'w': [1, 100000, 2, 2, 2, 2, 1, 1, 1, 1, 1, 1, 1, 2, 2, 2, 2, 2, 1, 1000],\n",
    "})\n",
    "X = df.loc[:, ['a', 'x']]\n",
    "y = df['y']\n",
    "w = df['w']"
   ]
  },
  {
   "cell_type": "code",
   "execution_count": 17,
   "metadata": {},
   "outputs": [
    {
     "output_type": "execute_result",
     "data": {
      "text/plain": [
       "    a__avg_resp  x__avg_resp\n",
       "0       2.00035            1\n",
       "1       2.00035            2\n",
       "2       2.00035            3\n",
       "3       2.00035            4\n",
       "4       2.00035            5\n",
       "5       2.00035            6\n",
       "6       2.00035            6\n",
       "7       2.00035            6\n",
       "8       2.00035            6\n",
       "9       2.00035            6\n",
       "10      4.97140            1\n",
       "11      4.97140            1\n",
       "12      4.97140            2\n",
       "13      4.97140            2\n",
       "14      4.97140            3\n",
       "15      4.97140            3\n",
       "16      4.97140            4\n",
       "17      4.97140            4\n",
       "18      4.97140            5\n",
       "19      4.97140            5"
      ],
      "text/html": "<div>\n<style scoped>\n    .dataframe tbody tr th:only-of-type {\n        vertical-align: middle;\n    }\n\n    .dataframe tbody tr th {\n        vertical-align: top;\n    }\n\n    .dataframe thead th {\n        text-align: right;\n    }\n</style>\n<table border=\"1\" class=\"dataframe\">\n  <thead>\n    <tr style=\"text-align: right;\">\n      <th></th>\n      <th>a__avg_resp</th>\n      <th>x__avg_resp</th>\n    </tr>\n  </thead>\n  <tbody>\n    <tr>\n      <th>0</th>\n      <td>2.00035</td>\n      <td>1</td>\n    </tr>\n    <tr>\n      <th>1</th>\n      <td>2.00035</td>\n      <td>2</td>\n    </tr>\n    <tr>\n      <th>2</th>\n      <td>2.00035</td>\n      <td>3</td>\n    </tr>\n    <tr>\n      <th>3</th>\n      <td>2.00035</td>\n      <td>4</td>\n    </tr>\n    <tr>\n      <th>4</th>\n      <td>2.00035</td>\n      <td>5</td>\n    </tr>\n    <tr>\n      <th>5</th>\n      <td>2.00035</td>\n      <td>6</td>\n    </tr>\n    <tr>\n      <th>6</th>\n      <td>2.00035</td>\n      <td>6</td>\n    </tr>\n    <tr>\n      <th>7</th>\n      <td>2.00035</td>\n      <td>6</td>\n    </tr>\n    <tr>\n      <th>8</th>\n      <td>2.00035</td>\n      <td>6</td>\n    </tr>\n    <tr>\n      <th>9</th>\n      <td>2.00035</td>\n      <td>6</td>\n    </tr>\n    <tr>\n      <th>10</th>\n      <td>4.97140</td>\n      <td>1</td>\n    </tr>\n    <tr>\n      <th>11</th>\n      <td>4.97140</td>\n      <td>1</td>\n    </tr>\n    <tr>\n      <th>12</th>\n      <td>4.97140</td>\n      <td>2</td>\n    </tr>\n    <tr>\n      <th>13</th>\n      <td>4.97140</td>\n      <td>2</td>\n    </tr>\n    <tr>\n      <th>14</th>\n      <td>4.97140</td>\n      <td>3</td>\n    </tr>\n    <tr>\n      <th>15</th>\n      <td>4.97140</td>\n      <td>3</td>\n    </tr>\n    <tr>\n      <th>16</th>\n      <td>4.97140</td>\n      <td>4</td>\n    </tr>\n    <tr>\n      <th>17</th>\n      <td>4.97140</td>\n      <td>4</td>\n    </tr>\n    <tr>\n      <th>18</th>\n      <td>4.97140</td>\n      <td>5</td>\n    </tr>\n    <tr>\n      <th>19</th>\n      <td>4.97140</td>\n      <td>5</td>\n    </tr>\n  </tbody>\n</table>\n</div>"
     },
     "metadata": {},
     "execution_count": 17
    }
   ],
   "source": [
    "ca = CategoricalAggregate()\n",
    "\n",
    "ca.fit(X, y, sample_weight=w)\n",
    "ca.transform(X)"
   ]
  },
  {
   "cell_type": "code",
   "execution_count": 18,
   "metadata": {},
   "outputs": [
    {
     "output_type": "stream",
     "name": "stdout",
     "text": [
      "cumsum 0    0.00001\n1    0.99988\n2    0.99990\n3    0.99992\n4    0.99994\n5    0.99996\n6    0.99997\n7    0.99998\n8    0.99999\n9    1.00000\nName: w, dtype: float64\nx_sorted 0    0.00001\n1    0.99988\n2    0.99990\n3    0.99992\n4    0.99994\n5    0.99996\n6    0.99997\n7    0.99998\n8    0.99999\n9    1.00000\nName: w, dtype: float64\ncumsum 10    0.000986\n11    0.001972\n12    0.002959\n13    0.004931\n14    0.006903\n15    0.008876\n16    0.010848\n17    0.012821\n18    0.013807\n19    1.000000\nName: w, dtype: float64\nx_sorted 10    0.000986\n11    0.001972\n12    0.002959\n13    0.004931\n14    0.006903\n15    0.008876\n16    0.010848\n17    0.012821\n18    0.013807\n19    1.000000\nName: w, dtype: float64\ncumsum 0     0.333333\n10    0.666667\n11    1.000000\nName: w, dtype: float64\nx_sorted 0     0.333333\n10    0.666667\n11    1.000000\nName: w, dtype: float64\ncumsum 1     0.99997\n12    0.99998\n13    1.00000\nName: w, dtype: float64\nx_sorted 1     0.99997\n12    0.99998\n13    1.00000\nName: w, dtype: float64\ncumsum 2     0.333333\n14    0.666667\n15    1.000000\nName: w, dtype: float64\nx_sorted 2     0.333333\n14    0.666667\n15    1.000000\nName: w, dtype: float64\ncumsum 3     0.333333\n16    0.666667\n17    1.000000\nName: w, dtype: float64\nx_sorted 3     0.333333\n16    0.666667\n17    1.000000\nName: w, dtype: float64\ncumsum 4     0.001994\n18    0.002991\n19    1.000000\nName: w, dtype: float64\nx_sorted 4     0.001994\n18    0.002991\n19    1.000000\nName: w, dtype: float64\ncumsum 0     0.333333\n10    0.666667\n11    1.000000\nName: w, dtype: float64\nx_sorted 0     0.333333\n10    0.666667\n11    1.000000\nName: w, dtype: float64\ncumsum 1     0.99997\n12    0.99998\n13    1.00000\nName: w, dtype: float64\nx_sorted 1     0.99997\n12    0.99998\n13    1.00000\nName: w, dtype: float64\ncumsum 2     0.333333\n14    0.666667\n15    1.000000\nName: w, dtype: float64\nx_sorted 2     0.333333\n14    0.666667\n15    1.000000\nName: w, dtype: float64\ncumsum 3     0.333333\n16    0.666667\n17    1.000000\nName: w, dtype: float64\nx_sorted 3     0.333333\n16    0.666667\n17    1.000000\nName: w, dtype: float64\ncumsum 4     0.001994\n18    0.002991\n19    1.000000\nName: w, dtype: float64\nx_sorted 4     0.001994\n18    0.002991\n19    1.000000\nName: w, dtype: float64\ncumsum 5    0.333333\n6    0.500000\n7    0.666667\n8    0.833333\n9    1.000000\nName: w, dtype: float64\nx_sorted 5    0.333333\n6    0.500000\n7    0.666667\n8    0.833333\n9    1.000000\nName: w, dtype: float64\n"
     ]
    },
    {
     "output_type": "execute_result",
     "data": {
      "text/plain": [
       "    a__avg_resp  x__avg_resp\n",
       "0      1.500055            1\n",
       "1      1.500055            2\n",
       "2      1.500055            3\n",
       "3      1.500055            4\n",
       "4      1.500055            5\n",
       "5      1.500055            6\n",
       "6      1.500055            6\n",
       "7      1.500055            6\n",
       "8      1.500055            6\n",
       "9      1.500055            6\n",
       "10     5.000000            1\n",
       "11     5.000000            1\n",
       "12     5.000000            2\n",
       "13     5.000000            2\n",
       "14     5.000000            3\n",
       "15     5.000000            3\n",
       "16     5.000000            4\n",
       "17     5.000000            4\n",
       "18     5.000000            5\n",
       "19     5.000000            5"
      ],
      "text/html": "<div>\n<style scoped>\n    .dataframe tbody tr th:only-of-type {\n        vertical-align: middle;\n    }\n\n    .dataframe tbody tr th {\n        vertical-align: top;\n    }\n\n    .dataframe thead th {\n        text-align: right;\n    }\n</style>\n<table border=\"1\" class=\"dataframe\">\n  <thead>\n    <tr style=\"text-align: right;\">\n      <th></th>\n      <th>a__avg_resp</th>\n      <th>x__avg_resp</th>\n    </tr>\n  </thead>\n  <tbody>\n    <tr>\n      <th>0</th>\n      <td>1.500055</td>\n      <td>1</td>\n    </tr>\n    <tr>\n      <th>1</th>\n      <td>1.500055</td>\n      <td>2</td>\n    </tr>\n    <tr>\n      <th>2</th>\n      <td>1.500055</td>\n      <td>3</td>\n    </tr>\n    <tr>\n      <th>3</th>\n      <td>1.500055</td>\n      <td>4</td>\n    </tr>\n    <tr>\n      <th>4</th>\n      <td>1.500055</td>\n      <td>5</td>\n    </tr>\n    <tr>\n      <th>5</th>\n      <td>1.500055</td>\n      <td>6</td>\n    </tr>\n    <tr>\n      <th>6</th>\n      <td>1.500055</td>\n      <td>6</td>\n    </tr>\n    <tr>\n      <th>7</th>\n      <td>1.500055</td>\n      <td>6</td>\n    </tr>\n    <tr>\n      <th>8</th>\n      <td>1.500055</td>\n      <td>6</td>\n    </tr>\n    <tr>\n      <th>9</th>\n      <td>1.500055</td>\n      <td>6</td>\n    </tr>\n    <tr>\n      <th>10</th>\n      <td>5.000000</td>\n      <td>1</td>\n    </tr>\n    <tr>\n      <th>11</th>\n      <td>5.000000</td>\n      <td>1</td>\n    </tr>\n    <tr>\n      <th>12</th>\n      <td>5.000000</td>\n      <td>2</td>\n    </tr>\n    <tr>\n      <th>13</th>\n      <td>5.000000</td>\n      <td>2</td>\n    </tr>\n    <tr>\n      <th>14</th>\n      <td>5.000000</td>\n      <td>3</td>\n    </tr>\n    <tr>\n      <th>15</th>\n      <td>5.000000</td>\n      <td>3</td>\n    </tr>\n    <tr>\n      <th>16</th>\n      <td>5.000000</td>\n      <td>4</td>\n    </tr>\n    <tr>\n      <th>17</th>\n      <td>5.000000</td>\n      <td>4</td>\n    </tr>\n    <tr>\n      <th>18</th>\n      <td>5.000000</td>\n      <td>5</td>\n    </tr>\n    <tr>\n      <th>19</th>\n      <td>5.000000</td>\n      <td>5</td>\n    </tr>\n  </tbody>\n</table>\n</div>"
     },
     "metadata": {},
     "execution_count": 18
    }
   ],
   "source": [
    "ca = CategoricalAggregate(agg_func='median')\n",
    "\n",
    "ca.fit(X, y, sample_weight=w)\n",
    "ca.transform(X)"
   ]
  },
  {
   "cell_type": "code",
   "execution_count": null,
   "metadata": {},
   "outputs": [],
   "source": []
  },
  {
   "cell_type": "code",
   "execution_count": null,
   "metadata": {},
   "outputs": [],
   "source": []
  }
 ]
}