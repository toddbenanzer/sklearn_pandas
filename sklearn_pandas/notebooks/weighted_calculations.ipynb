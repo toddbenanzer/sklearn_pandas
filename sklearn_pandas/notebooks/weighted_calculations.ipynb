{
 "metadata": {
  "language_info": {
   "codemirror_mode": {
    "name": "ipython",
    "version": 3
   },
   "file_extension": ".py",
   "mimetype": "text/x-python",
   "name": "python",
   "nbconvert_exporter": "python",
   "pygments_lexer": "ipython3",
   "version": "3.7.3"
  },
  "orig_nbformat": 2,
  "kernelspec": {
   "name": "python373jvsc74a57bd031ee95f28bd84f3252c782410ab53671b3e18438921d79936f3681141dbddae6",
   "display_name": "Python 3.7.3 64-bit ('base': conda)"
  }
 },
 "nbformat": 4,
 "nbformat_minor": 2,
 "cells": [
  {
   "cell_type": "code",
   "execution_count": null,
   "metadata": {},
   "outputs": [],
   "source": [
    "import pandas as pd\n",
    "import numpy as np\n"
   ]
  },
  {
   "cell_type": "code",
   "execution_count": 1,
   "metadata": {},
   "outputs": [
    {
     "output_type": "error",
     "ename": "NameError",
     "evalue": "name 'pd' is not defined",
     "traceback": [
      "\u001b[1;31m---------------------------------------------------------------------------\u001b[0m",
      "\u001b[1;31mNameError\u001b[0m                                 Traceback (most recent call last)",
      "\u001b[1;32m<ipython-input-1-7e1cc55d4426>\u001b[0m in \u001b[0;36m<module>\u001b[1;34m\u001b[0m\n\u001b[1;32m----> 1\u001b[1;33m df1 = pd.DataFrame({\n\u001b[0m\u001b[0;32m      2\u001b[0m     \u001b[1;34m'a'\u001b[0m\u001b[1;33m:\u001b[0m \u001b[1;33m[\u001b[0m\u001b[1;36m1\u001b[0m\u001b[1;33m,\u001b[0m \u001b[1;36m1\u001b[0m\u001b[1;33m,\u001b[0m \u001b[1;36m1\u001b[0m\u001b[1;33m,\u001b[0m \u001b[1;36m1\u001b[0m\u001b[1;33m,\u001b[0m \u001b[1;36m1\u001b[0m\u001b[1;33m,\u001b[0m \u001b[1;36m1\u001b[0m\u001b[1;33m]\u001b[0m\u001b[1;33m,\u001b[0m\u001b[1;33m\u001b[0m\u001b[1;33m\u001b[0m\u001b[0m\n\u001b[0;32m      3\u001b[0m     \u001b[1;34m'x'\u001b[0m\u001b[1;33m:\u001b[0m \u001b[1;33m[\u001b[0m\u001b[1;36m1\u001b[0m\u001b[1;33m,\u001b[0m \u001b[1;36m1\u001b[0m\u001b[1;33m,\u001b[0m \u001b[1;36m1\u001b[0m\u001b[1;33m,\u001b[0m \u001b[1;36m2\u001b[0m\u001b[1;33m,\u001b[0m \u001b[1;36m2\u001b[0m\u001b[1;33m,\u001b[0m \u001b[1;36m2\u001b[0m\u001b[1;33m]\u001b[0m\u001b[1;33m,\u001b[0m\u001b[1;33m\u001b[0m\u001b[1;33m\u001b[0m\u001b[0m\n\u001b[0;32m      4\u001b[0m     \u001b[1;34m'w'\u001b[0m\u001b[1;33m:\u001b[0m \u001b[1;33m[\u001b[0m\u001b[1;36m1\u001b[0m\u001b[1;33m,\u001b[0m \u001b[1;36m1\u001b[0m\u001b[1;33m,\u001b[0m \u001b[1;36m1\u001b[0m\u001b[1;33m,\u001b[0m \u001b[1;36m1\u001b[0m\u001b[1;33m,\u001b[0m \u001b[1;36m1\u001b[0m\u001b[1;33m,\u001b[0m \u001b[1;36m1\u001b[0m\u001b[1;33m]\u001b[0m\u001b[1;33m,\u001b[0m\u001b[1;33m\u001b[0m\u001b[1;33m\u001b[0m\u001b[0m\n\u001b[0;32m      5\u001b[0m })\n",
      "\u001b[1;31mNameError\u001b[0m: name 'pd' is not defined"
     ]
    }
   ],
   "source": [
    "df1 = pd.DataFrame({\n",
    "    'a': [1, 1, 1, 1, 1, 1],\n",
    "    'x': [1, 1, 1, 2, 2, 2],\n",
    "    'w': [1, 1, 1, 1, 1, 1],\n",
    "})\n",
    "\n",
    "df2 = pd.DataFrame({\n",
    "    'a': [1, 1, 1, 1, 1, 1],\n",
    "    'x': [1, 1, 2, 2, 2, 2],\n",
    "    'w': [2, 2, 1, 1, 1, 1],\n",
    "})\n"
   ]
  },
  {
   "cell_type": "code",
   "execution_count": null,
   "metadata": {},
   "outputs": [],
   "source": [
    "df1"
   ]
  },
  {
   "cell_type": "code",
   "execution_count": 3,
   "metadata": {},
   "outputs": [
    {
     "output_type": "error",
     "ename": "NameError",
     "evalue": "name 'df2' is not defined",
     "traceback": [
      "\u001b[1;31m---------------------------------------------------------------------------\u001b[0m",
      "\u001b[1;31mNameError\u001b[0m                                 Traceback (most recent call last)",
      "\u001b[1;32m<ipython-input-3-2068723f1203>\u001b[0m in \u001b[0;36m<module>\u001b[1;34m\u001b[0m\n\u001b[1;32m----> 1\u001b[1;33m \u001b[0mdf2\u001b[0m\u001b[1;33m\u001b[0m\u001b[1;33m\u001b[0m\u001b[0m\n\u001b[0m",
      "\u001b[1;31mNameError\u001b[0m: name 'df2' is not defined"
     ]
    }
   ],
   "source": [
    "df2"
   ]
  },
  {
   "cell_type": "code",
   "execution_count": null,
   "metadata": {},
   "outputs": [],
   "source": [
    "w = df1['w']\n",
    "\n",
    "def weighted_mean(x): \n",
    "    return np.average(x, weights=w.loc[x.index])\n",
    "\n",
    "df1.groupby('a').agg({'x': weighted_mean})"
   ]
  },
  {
   "cell_type": "code",
   "execution_count": null,
   "metadata": {},
   "outputs": [],
   "source": [
    "w = df2['w']\n",
    "\n",
    "def weighted_mean(x): \n",
    "    return np.average(x, weights=w.loc[x.index])\n",
    "\n",
    "df2.groupby('a').agg({'x': weighted_mean})"
   ]
  },
  {
   "cell_type": "code",
   "execution_count": null,
   "metadata": {},
   "outputs": [],
   "source": [
    "def weighted_median(df, val, weight):\n",
    "    df_sorted = df.sort_values(val)\n",
    "    cumsum = df_sorted[weight].cumsum()\n",
    "    cutoff = df_sorted[weight].sum() / 2.\n",
    "    return df_sorted[cumsum >= cutoff][val].iloc[0]"
   ]
  },
  {
   "cell_type": "code",
   "execution_count": null,
   "metadata": {},
   "outputs": [],
   "source": [
    "df1 = pd.DataFrame({\n",
    "    'a': [1, 1, 1, 1, 1, 1],\n",
    "    'x': [1, 2, 3, 4, 1, 2],\n",
    "    'w': [2000, 2, 1, 1, 1, 1],\n",
    "})\n",
    "x = df1['x']\n",
    "w = df1['w']"
   ]
  },
  {
   "cell_type": "code",
   "execution_count": null,
   "metadata": {},
   "outputs": [],
   "source": [
    "def weighted_median(x, w):\n",
    "    x_sorted = x[np.argsort(x)]\n",
    "    w_sorted = w[np.argsort(x)]\n",
    "    cumsum = w_sorted.cumsum() / w_sorted.sum()\n",
    "    return np.interp(0.5, cumsum, x_sorted)"
   ]
  },
  {
   "cell_type": "code",
   "execution_count": null,
   "metadata": {},
   "outputs": [],
   "source": [
    "weighted_median(df1['x'], df1['w'])"
   ]
  },
  {
   "cell_type": "code",
   "execution_count": null,
   "metadata": {},
   "outputs": [],
   "source": [
    "x_sorted = x[np.argsort(x)]\n",
    "w_sorted = w[np.argsort(x)]\n",
    "cumsum = w_sorted.cumsum() / w_sorted.sum()\n",
    "\n",
    "pd.DataFrame({\n",
    "    'x_sorted': x_sorted,\n",
    "    'cumsum': cumsum,\n",
    "})"
   ]
  },
  {
   "cell_type": "code",
   "execution_count": null,
   "metadata": {},
   "outputs": [],
   "source": [
    "np.interp(0.5, cumsum, x_sorted)"
   ]
  },
  {
   "cell_type": "code",
   "execution_count": null,
   "metadata": {},
   "outputs": [],
   "source": [
    "df1 = pd.DataFrame({\n",
    "    'a': ['1', '1', '1', '1', '1', '1'],\n",
    "    'x': ['1', '2', '3', '4', '1', '2'],\n",
    "    'w': [2000.0, 2.0, 1.0, 1.0, 1.0, 1.0],\n",
    "})\n",
    "x = df1['x']\n",
    "w = df1['w']"
   ]
  },
  {
   "cell_type": "code",
   "execution_count": null,
   "metadata": {},
   "outputs": [],
   "source": [
    "counts = w.groupby(x).agg('sum') / w.sum()\n",
    "counts"
   ]
  },
  {
   "cell_type": "code",
   "execution_count": null,
   "metadata": {},
   "outputs": [],
   "source": [
    "list(counts[counts >= 0.05].index)"
   ]
  },
  {
   "cell_type": "code",
   "execution_count": null,
   "metadata": {},
   "outputs": [],
   "source": [
    "type(w)"
   ]
  },
  {
   "cell_type": "code",
   "execution_count": null,
   "metadata": {},
   "outputs": [],
   "source": [
    "type(pd.Series(np.ones(8)))"
   ]
  },
  {
   "source": [
    "# Weighted Quantile"
   ],
   "cell_type": "markdown",
   "metadata": {}
  },
  {
   "cell_type": "code",
   "execution_count": null,
   "metadata": {},
   "outputs": [],
   "source": [
    "def weighted_median(x, w):\n",
    "    x_sorted = x[np.argsort(x)]\n",
    "    w_sorted = w[np.argsort(x)]\n",
    "    cumsum = w_sorted.cumsum() / w_sorted.sum()\n",
    "    return np.interp(0.5, cumsum, x_sorted)"
   ]
  },
  {
   "cell_type": "code",
   "execution_count": 27,
   "metadata": {},
   "outputs": [
    {
     "output_type": "execute_result",
     "data": {
      "text/plain": [
       "2.5"
      ]
     },
     "metadata": {},
     "execution_count": 27
    }
   ],
   "source": [
    "x = np.array([1.0, 2.0, 3.0, 4.0, 5.0])\n",
    "w = np.array([1.0, 1.0, 1.0, 1.0, 1.0])\n",
    "q = 3\n",
    "\n",
    "x_sorted = x[np.argsort(x)]\n",
    "w_sorted = w[np.argsort(x)]\n",
    "cumpct1 = w_sorted.cumsum() / w_sorted.sum()\n",
    "cumpct2 = w_sorted.cumsum() / w_sorted.sum()\n",
    "#p = q * w_sorted.sum()\n",
    "cumpct1\n",
    "np.interp(0.5, cumpct1, x_sorted)\n",
    "# xsort['index'] = range(len(x))\n",
    "# p = q * x[x.columns[1]].sum()\n",
    "# pop = float(xsort[xsort.columns[1]][xsort['index']==0])\n",
    "# i = 0\n",
    "# while pop < p:\n",
    "#     pop = pop + float(xsort[xsort.columns[1]][xsort['index']==i+1])\n",
    "#     i = i + 1\n",
    "# return xsort[xsort.columns[0]][xsort['index']==i]"
   ]
  },
  {
   "cell_type": "code",
   "execution_count": 48,
   "metadata": {},
   "outputs": [
    {
     "output_type": "execute_result",
     "data": {
      "text/plain": [
       "array([1., 4., 5.])"
      ]
     },
     "metadata": {},
     "execution_count": 48
    }
   ],
   "source": [
    "x = np.array([1.0, 2.0, 3.0, 4.0, 5.0])\n",
    "w = np.array([1.0, 1.0, 1.0, 1.0, 3.0])\n",
    "qcuts = [0.0, 0.5, 1.0]\n",
    "\n",
    "x_sorted = x[np.argsort(x)]\n",
    "w_sorted = w[np.argsort(x)]\n",
    "cumpct = w_sorted.cumsum() / w_sorted.sum()\n",
    "cumpct = np.append([0.0], cumpct)\n",
    "midpts = (cumpct[:-1] + cumpct[1:]) / 2.0\n",
    "np.interp(qcuts, midpts, x_sorted)"
   ]
  },
  {
   "cell_type": "code",
   "execution_count": 53,
   "metadata": {},
   "outputs": [
    {
     "output_type": "execute_result",
     "data": {
      "text/plain": [
       "array([1.  , 4.25, 5.  ])"
      ]
     },
     "metadata": {},
     "execution_count": 53
    }
   ],
   "source": [
    "def weighed_percentile(x, q=0.5, w=None):\n",
    "    if w is None:\n",
    "        w = np.ones(len(x))\n",
    "    is_valid = np.isfinite(x) & np.isfinite(w)\n",
    "    x_clean = x[is_valid]\n",
    "    w_clean = w[is_valid]\n",
    "    x_sorted = x_clean[np.argsort(x_clean)]\n",
    "    w_sorted = w_clean[np.argsort(w_clean)]\n",
    "    cumpct = w_sorted.cumsum() / w_sorted.sum()\n",
    "    cumpct = np.append([0.0], cumpct)\n",
    "    midpts = (cumpct[:-1] + cumpct[1:]) / 2.0\n",
    "    return np.interp(qcuts, midpts, x_sorted)\n",
    "\n",
    "x = np.array([1.0, 2.0, np.nan, 4.0, 5.0])\n",
    "w = np.array([1.0, 1.0, 1.0, 1.0, 3.0])\n",
    "qcuts = [0.0, 0.5, 1.0]\n",
    "weighed_percentile(x, q=qcuts, w=w)"
   ]
  },
  {
   "cell_type": "code",
   "execution_count": null,
   "metadata": {},
   "outputs": [],
   "source": []
  }
 ]
}